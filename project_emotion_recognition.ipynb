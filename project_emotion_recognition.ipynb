{
 "cells": [
  {
   "cell_type": "code",
   "execution_count": 2,
   "metadata": {},
   "outputs": [
    {
     "name": "stderr",
     "output_type": "stream",
     "text": [
      "Using TensorFlow backend.\n"
     ]
    },
    {
     "name": "stdout",
     "output_type": "stream",
     "text": [
      "number of instances:  35918\n"
     ]
    }
   ],
   "source": [
    "import csv\n",
    "import numpy as np\n",
    "import matplotlib.pyplot as plt\n",
    "\n",
    "import tensorflow as tf\n",
    "from keras.models import Sequential\n",
    "from keras.layers import Activation, Flatten, Dropout\n",
    "from keras.layers.core import Dense\n",
    "from keras.layers.convolutional import Conv2D, MaxPooling2D, AveragePooling2D\n",
    "from keras.utils import np_utils\n",
    "from keras.preprocessing import image\n",
    "from keras.preprocessing.image import ImageDataGenerator\n",
    "\n",
    "\n",
    "with open(\"./fer2013\") as f:\n",
    "    content=f.readlines()\n",
    "    lines = np.array(content)\n",
    " \n",
    "    num_of_instances = lines.size\n",
    "print(\"number of instances: \",num_of_instances)"
   ]
  },
  {
   "cell_type": "code",
   "execution_count": 15,
   "metadata": {},
   "outputs": [
    {
     "name": "stdout",
     "output_type": "stream",
     "text": [
      "train samples: 28709\n",
      "test samples: 3589\n"
     ]
    }
   ],
   "source": [
    "import keras\n",
    "config = tf.ConfigProto( device_count = {'GPU': 0 , 'CPU': 56} ) #max: 1 gpu, 56 cpu\n",
    "sess = tf.Session(config=config) \n",
    "keras.backend.set_session(sess)\n",
    "#configuration\n",
    "\n",
    "x_train, y_train, x_test, y_test = [], [], [], []\n",
    "# x_train chai sample ho vane\n",
    "# y_train chai labels ho....important...\n",
    "num_classes=7 #WE have 7 emoticons so we set 7 yo case ma..\n",
    "for i in range(1,num_of_instances):\n",
    "    try:\n",
    "        emotion, img, usage = lines[i].split(\",\")\n",
    "          \n",
    "        val = img.split(\" \")\n",
    "            \n",
    "        pixels = np.array(val, 'float32')\n",
    "        \n",
    "        emotion = keras.utils.to_categorical(emotion, num_classes)\n",
    "    \n",
    "        if 'Training' in usage:\n",
    "            y_train.append(emotion)\n",
    "            x_train.append(pixels)\n",
    "        elif 'PublicTest' in usage:\n",
    "            y_test.append(emotion)\n",
    "            x_test.append(pixels)\n",
    "    except:\n",
    "        print(\"\",end=\"\")\n",
    "        \n",
    "        \n",
    "    \n",
    "x_train = np.array(x_train, 'float32')\n",
    "y_train = np.array(y_train, 'float32')\n",
    "x_test = np.array(x_test, 'float32')\n",
    "y_test = np.array(y_test, 'float32')\n",
    "\n",
    "x_train /= 255 #normalize inputs between [0, 1] #this data is what our CNN asks....\n",
    "x_test /= 255\n",
    "\n",
    "x_train = x_train.reshape(x_train.shape[0], 48, 48, 1)\n",
    "x_train = x_train.astype('float32')\n",
    "x_test = x_test.reshape(x_test.shape[0], 48, 48, 1)\n",
    "x_test = x_test.astype('float32')\n",
    "\n",
    "print('train samples:',x_train.shape[0] )\n",
    "print('test samples:',x_test.shape[0] )\n",
    "\n",
    "#trained keras tutorial found on youtube with cnn esma detail cha\n"
   ]
  },
  {
   "cell_type": "code",
   "execution_count": 19,
   "metadata": {},
   "outputs": [],
   "source": [
    "# we have found train sample and test sample so we can proceed now\n",
    "\n",
    "model = Sequential() #could have done inside this parameter but add is better i guess for this situation\n",
    "#three parts in CNN convolution pooling(max/avg) and then fully connected network(dense/dropout)\n",
    "\n",
    "\n",
    "#1st convolution layer\n",
    "model.add(Conv2D(64, (5, 5), input_shape=(48,48,1), activation='relu')) #first one must have an instance in conv2d layer\n",
    "model.add(MaxPooling2D(pool_size=(5,5), strides=(2, 2)))\n",
    "\n",
    "#2nd convolution layer\n",
    "model.add(Conv2D(64, (3, 3), activation='relu'))\n",
    "model.add(Conv2D(64, (3, 3), activation='relu'))\n",
    "model.add(AveragePooling2D(pool_size=(3,3), strides=(2, 2)))\n",
    " \n",
    "#3rd convolution layer\n",
    "model.add(Conv2D(128, (3, 3), activation='relu'))\n",
    "model.add(Conv2D(128, (3, 3), activation='relu'))\n",
    "model.add(AveragePooling2D(pool_size=(3,3), strides=(2, 2)))\n",
    " \n",
    "model.add(Flatten())#flattens into 1D tensor\n",
    "\n",
    "#fully connected neural networks\n",
    "model.add(Dense(1024, activation='relu'))\n",
    "model.add(Dropout(0.2))\n",
    "model.add(Dense(1024, activation='relu'))\n",
    "model.add(Dropout(0.2))\n",
    "\n",
    "model.add(Dense(num_classes, activation='softmax')) #for output we use dense numclas as we have 7 labels ad sftmx for output\n",
    "#first one must have an instance in conv2d layer \n",
    "#48 48 is the heght and width of image a fer 2013 describes and 1 is the color if colorful then RGB=3 incase of 1 \n"
   ]
  },
  {
   "cell_type": "code",
   "execution_count": 20,
   "metadata": {},
   "outputs": [
    {
     "name": "stdout",
     "output_type": "stream",
     "text": [
      "_________________________________________________________________\n",
      "Layer (type)                 Output Shape              Param #   \n",
      "=================================================================\n",
      "conv2d_1 (Conv2D)            (None, 44, 44, 64)        1664      \n",
      "_________________________________________________________________\n",
      "max_pooling2d_1 (MaxPooling2 (None, 20, 20, 64)        0         \n",
      "_________________________________________________________________\n",
      "conv2d_2 (Conv2D)            (None, 18, 18, 64)        36928     \n",
      "_________________________________________________________________\n",
      "conv2d_3 (Conv2D)            (None, 16, 16, 64)        36928     \n",
      "_________________________________________________________________\n",
      "average_pooling2d_1 (Average (None, 7, 7, 64)          0         \n",
      "_________________________________________________________________\n",
      "conv2d_4 (Conv2D)            (None, 5, 5, 128)         73856     \n",
      "_________________________________________________________________\n",
      "conv2d_5 (Conv2D)            (None, 3, 3, 128)         147584    \n",
      "_________________________________________________________________\n",
      "average_pooling2d_2 (Average (None, 1, 1, 128)         0         \n",
      "_________________________________________________________________\n",
      "flatten_1 (Flatten)          (None, 128)               0         \n",
      "_________________________________________________________________\n",
      "dense_1 (Dense)              (None, 1024)              132096    \n",
      "_________________________________________________________________\n",
      "dropout_1 (Dropout)          (None, 1024)              0         \n",
      "_________________________________________________________________\n",
      "dense_2 (Dense)              (None, 1024)              1049600   \n",
      "_________________________________________________________________\n",
      "dropout_2 (Dropout)          (None, 1024)              0         \n",
      "_________________________________________________________________\n",
      "dense_3 (Dense)              (None, 7)                 7175      \n",
      "=================================================================\n",
      "Total params: 1,485,831\n",
      "Trainable params: 1,485,831\n",
      "Non-trainable params: 0\n",
      "_________________________________________________________________\n"
     ]
    }
   ],
   "source": [
    "model.summary() # shape and parameter all good so ready for training and softmax activated dense is 7\n"
   ]
  },
  {
   "cell_type": "code",
   "execution_count": 21,
   "metadata": {},
   "outputs": [],
   "source": [
    "import keras\n",
    "from keras.optimizers import Adam\n",
    "from keras.metrics import categorical_crossentropy\n",
    "model.compile(Adam(lr=.0001),loss='categorical_crossentropy',metrics=['accuracy'])\n",
    "\n"
   ]
  },
  {
   "cell_type": "markdown",
   "metadata": {},
   "source": []
  },
  {
   "cell_type": "markdown",
   "metadata": {},
   "source": [
    "\n"
   ]
  },
  {
   "cell_type": "code",
   "execution_count": 22,
   "metadata": {},
   "outputs": [
    {
     "name": "stdout",
     "output_type": "stream",
     "text": [
      "Epoch 1/10\n",
      "20/20 [==============================] - 7s 359ms/step - loss: 1.9190 - acc: 0.2250\n",
      "Epoch 2/10\n",
      "20/20 [==============================] - 5s 266ms/step - loss: 1.8688 - acc: 0.2700\n",
      "Epoch 3/10\n",
      "20/20 [==============================] - 5s 253ms/step - loss: 1.8581 - acc: 0.2325\n",
      "Epoch 4/10\n",
      "20/20 [==============================] - 5s 254ms/step - loss: 1.8452 - acc: 0.2375\n",
      "Epoch 5/10\n",
      "20/20 [==============================] - 5s 252ms/step - loss: 1.7981 - acc: 0.2950\n",
      "Epoch 6/10\n",
      "20/20 [==============================] - 5s 252ms/step - loss: 1.8073 - acc: 0.2675\n",
      "Epoch 7/10\n",
      "20/20 [==============================] - 5s 256ms/step - loss: 1.8119 - acc: 0.2300\n",
      "Epoch 8/10\n",
      "20/20 [==============================] - 5s 254ms/step - loss: 1.8539 - acc: 0.2200\n",
      "Epoch 9/10\n",
      "20/20 [==============================] - 5s 258ms/step - loss: 1.8124 - acc: 0.2625\n",
      "Epoch 10/10\n",
      "20/20 [==============================] - 5s 255ms/step - loss: 1.8003 - acc: 0.2850\n",
      "Train loss: 1.82486376184\n",
      "Train accuracy: 25.1314918667\n",
      "3589/3589 [==============================] - 21s 6ms/step\n",
      "Test loss: 1.8250797428\n",
      "Test accuracy: 24.9373084429\n"
     ]
    }
   ],
   "source": [
    "batch_size=20\n",
    "epochs=10\n",
    "\n",
    "gen = ImageDataGenerator()\n",
    "train_generator = gen.flow(x_train, y_train, batch_size=batch_size)\n",
    "\n",
    "#------------------------------\n",
    "\n",
    "model.compile(loss='categorical_crossentropy'\n",
    "    , optimizer=keras.optimizers.Adam(lr=.0001)\n",
    "    , metrics=['accuracy']\n",
    ")\n",
    "\n",
    "fit = True\n",
    "\n",
    "if fit == True:\n",
    "    #model.fit_generator(x_train, y_train, epochs=epochs) #train for all trainset\n",
    "    model.fit_generator(train_generator, steps_per_epoch=batch_size, epochs=epochs) #train for randomly selected one\n",
    "else:\n",
    "    model.load_weights('./facial_expression_model_weights.h5') #load weights\n",
    "    \n",
    "train_score = model.evaluate(x_train, y_train, verbose=0)\n",
    "print('Train loss:', train_score[0])\n",
    "print('Train accuracy:', 100*train_score[1]) \n",
    "\n",
    "score = model.evaluate(x_test, y_test)\n",
    "\n",
    "print('Test loss:', score[0])\n",
    "print('Test accuracy:', 100*score[1])\n",
    "\n"
   ]
  },
  {
   "cell_type": "code",
   "execution_count": 58,
   "metadata": {},
   "outputs": [
    {
     "name": "stdout",
     "output_type": "stream",
     "text": [
      "Epoch 1/10\n",
      "256/256 [==============================] - 455s 2s/step - loss: 1.8084 - acc: 0.2518\n",
      "Epoch 2/10\n",
      "256/256 [==============================] - 522s 2s/step - loss: 1.7522 - acc: 0.2737\n",
      "Epoch 3/10\n",
      "256/256 [==============================] - 530s 2s/step - loss: 1.6443 - acc: 0.3422\n",
      "Epoch 4/10\n",
      "256/256 [==============================] - 520s 2s/step - loss: 1.5659 - acc: 0.3860\n",
      "Epoch 5/10\n",
      "256/256 [==============================] - 487s 2s/step - loss: 1.5178 - acc: 0.4102\n",
      "Epoch 6/10\n",
      "256/256 [==============================] - 487s 2s/step - loss: 1.4741 - acc: 0.4315\n",
      "Epoch 7/10\n",
      "256/256 [==============================] - 471s 2s/step - loss: 1.4414 - acc: 0.4462\n",
      "Epoch 8/10\n",
      "256/256 [==============================] - 483s 2s/step - loss: 1.4085 - acc: 0.4596\n",
      "Epoch 9/10\n",
      "256/256 [==============================] - 510s 2s/step - loss: 1.3840 - acc: 0.4705\n",
      "Epoch 10/10\n",
      "256/256 [==============================] - 509s 2s/step - loss: 1.3571 - acc: 0.4806\n",
      "Train loss: 1.37901250268\n",
      "Train accuracy: 47.2917900311\n",
      "3589/3589 [==============================] - 10s 3ms/step\n",
      "Test loss: 1.40225472584\n",
      "Test accuracy: 46.0016717765\n"
     ]
    }
   ],
   "source": [
    "batch_size=256\n",
    "epochs=10\n",
    "\n",
    "gen = ImageDataGenerator()\n",
    "train_generator = gen.flow(x_train, y_train, batch_size=batch_size)\n",
    "\n",
    "#------------------------------\n",
    "\n",
    "model.compile(loss='categorical_crossentropy'\n",
    "    , optimizer=keras.optimizers.Adam(lr=.0001)\n",
    "    , metrics=['accuracy']\n",
    ")\n",
    "\n",
    "fit = True\n",
    "\n",
    "if fit == True:\n",
    "    #model.fit_generator(x_train, y_train, epochs=epochs) #train for all trainset\n",
    "    model.fit_generator(train_generator, steps_per_epoch=batch_size, epochs=epochs) #train for randomly selected one\n",
    "else:\n",
    "    model.load_weights('./facial_expression_model_weights.h5') #load weights\n",
    "    \n",
    "train_score = model.evaluate(x_train, y_train, verbose=0)\n",
    "print('Train loss:', train_score[0])\n",
    "print('Train accuracy:', 100*train_score[1]) \n",
    "\n",
    "score = model.evaluate(x_test, y_test)\n",
    "\n",
    "print('Test loss:', score[0])\n",
    "print('Test accuracy:', 100*score[1])\n",
    "\n"
   ]
  },
  {
   "cell_type": "code",
   "execution_count": 46,
   "metadata": {},
   "outputs": [],
   "source": [
    "labels= next(train_generator)"
   ]
  },
  {
   "cell_type": "code",
   "execution_count": 47,
   "metadata": {},
   "outputs": [
    {
     "name": "stdout",
     "output_type": "stream",
     "text": [
      "(array([[[[ 0.95686275],\n",
      "         [ 0.98039216],\n",
      "         [ 1.        ],\n",
      "         ..., \n",
      "         [ 1.        ],\n",
      "         [ 1.        ],\n",
      "         [ 0.95294118]],\n",
      "\n",
      "        [[ 0.98039216],\n",
      "         [ 0.8509804 ],\n",
      "         [ 0.72941178],\n",
      "         ..., \n",
      "         [ 0.38039216],\n",
      "         [ 0.53333336],\n",
      "         [ 0.97647059]],\n",
      "\n",
      "        [[ 1.        ],\n",
      "         [ 0.65098041],\n",
      "         [ 0.33333334],\n",
      "         ..., \n",
      "         [ 0.        ],\n",
      "         [ 0.23137255],\n",
      "         [ 0.98823529]],\n",
      "\n",
      "        ..., \n",
      "        [[ 1.        ],\n",
      "         [ 0.58039218],\n",
      "         [ 0.        ],\n",
      "         ..., \n",
      "         [ 0.        ],\n",
      "         [ 0.23137255],\n",
      "         [ 0.99215686]],\n",
      "\n",
      "        [[ 0.98431373],\n",
      "         [ 0.7647059 ],\n",
      "         [ 0.43137255],\n",
      "         ..., \n",
      "         [ 0.43921569],\n",
      "         [ 0.58039218],\n",
      "         [ 0.97254902]],\n",
      "\n",
      "        [[ 0.96078432],\n",
      "         [ 0.99215686],\n",
      "         [ 1.        ],\n",
      "         ..., \n",
      "         [ 1.        ],\n",
      "         [ 1.        ],\n",
      "         [ 0.95294118]]],\n",
      "\n",
      "\n",
      "       [[[ 0.87058824],\n",
      "         [ 0.51764709],\n",
      "         [ 0.34901962],\n",
      "         ..., \n",
      "         [ 0.9254902 ],\n",
      "         [ 0.90588236],\n",
      "         [ 0.90980393]],\n",
      "\n",
      "        [[ 0.51764709],\n",
      "         [ 0.33333334],\n",
      "         [ 0.32156864],\n",
      "         ..., \n",
      "         [ 0.90588236],\n",
      "         [ 0.90588236],\n",
      "         [ 0.90980393]],\n",
      "\n",
      "        [[ 0.31764707],\n",
      "         [ 0.32941177],\n",
      "         [ 0.3137255 ],\n",
      "         ..., \n",
      "         [ 0.90588236],\n",
      "         [ 0.90588236],\n",
      "         [ 0.90588236]],\n",
      "\n",
      "        ..., \n",
      "        [[ 0.90980393],\n",
      "         [ 0.90196079],\n",
      "         [ 0.90980393],\n",
      "         ..., \n",
      "         [ 0.88235295],\n",
      "         [ 0.9137255 ],\n",
      "         [ 0.90196079]],\n",
      "\n",
      "        [[ 0.90196079],\n",
      "         [ 0.90196079],\n",
      "         [ 0.90196079],\n",
      "         ..., \n",
      "         [ 0.91764706],\n",
      "         [ 0.90196079],\n",
      "         [ 0.90980393]],\n",
      "\n",
      "        [[ 0.90588236],\n",
      "         [ 0.90196079],\n",
      "         [ 0.89803922],\n",
      "         ..., \n",
      "         [ 0.90980393],\n",
      "         [ 0.90588236],\n",
      "         [ 0.90588236]]],\n",
      "\n",
      "\n",
      "       [[[ 0.34901962],\n",
      "         [ 0.33725491],\n",
      "         [ 0.33333334],\n",
      "         ..., \n",
      "         [ 0.18039216],\n",
      "         [ 0.17647059],\n",
      "         [ 0.14901961]],\n",
      "\n",
      "        [[ 0.34901962],\n",
      "         [ 0.33725491],\n",
      "         [ 0.33333334],\n",
      "         ..., \n",
      "         [ 0.19607843],\n",
      "         [ 0.18431373],\n",
      "         [ 0.15686275]],\n",
      "\n",
      "        [[ 0.34509805],\n",
      "         [ 0.34117648],\n",
      "         [ 0.33333334],\n",
      "         ..., \n",
      "         [ 0.19607843],\n",
      "         [ 0.16470589],\n",
      "         [ 0.15294118]],\n",
      "\n",
      "        ..., \n",
      "        [[ 0.29019609],\n",
      "         [ 0.29019609],\n",
      "         [ 0.29019609],\n",
      "         ..., \n",
      "         [ 0.29411766],\n",
      "         [ 0.09411765],\n",
      "         [ 0.02352941]],\n",
      "\n",
      "        [[ 0.3019608 ],\n",
      "         [ 0.29803923],\n",
      "         [ 0.29803923],\n",
      "         ..., \n",
      "         [ 0.3137255 ],\n",
      "         [ 0.24313726],\n",
      "         [ 0.04313726]],\n",
      "\n",
      "        [[ 0.34509805],\n",
      "         [ 0.34509805],\n",
      "         [ 0.34901962],\n",
      "         ..., \n",
      "         [ 0.30980393],\n",
      "         [ 0.34509805],\n",
      "         [ 0.23529412]]],\n",
      "\n",
      "\n",
      "       ..., \n",
      "       [[[ 0.45882353],\n",
      "         [ 0.3882353 ],\n",
      "         [ 0.37254903],\n",
      "         ..., \n",
      "         [ 0.07843138],\n",
      "         [ 0.06666667],\n",
      "         [ 0.07058824]],\n",
      "\n",
      "        [[ 0.51764709],\n",
      "         [ 0.34509805],\n",
      "         [ 0.3137255 ],\n",
      "         ..., \n",
      "         [ 0.06666667],\n",
      "         [ 0.08627451],\n",
      "         [ 0.08627451]],\n",
      "\n",
      "        [[ 0.34509805],\n",
      "         [ 0.28627452],\n",
      "         [ 0.3019608 ],\n",
      "         ..., \n",
      "         [ 0.05882353],\n",
      "         [ 0.07843138],\n",
      "         [ 0.06666667]],\n",
      "\n",
      "        ..., \n",
      "        [[ 0.15294118],\n",
      "         [ 0.16470589],\n",
      "         [ 0.16862746],\n",
      "         ..., \n",
      "         [ 0.00784314],\n",
      "         [ 0.00784314],\n",
      "         [ 0.00784314]],\n",
      "\n",
      "        [[ 0.14117648],\n",
      "         [ 0.15686275],\n",
      "         [ 0.16862746],\n",
      "         ..., \n",
      "         [ 0.00784314],\n",
      "         [ 0.00784314],\n",
      "         [ 0.00784314]],\n",
      "\n",
      "        [[ 0.15294118],\n",
      "         [ 0.16470589],\n",
      "         [ 0.16862746],\n",
      "         ..., \n",
      "         [ 0.01568628],\n",
      "         [ 0.01176471],\n",
      "         [ 0.00784314]]],\n",
      "\n",
      "\n",
      "       [[[ 0.9137255 ],\n",
      "         [ 0.91764706],\n",
      "         [ 0.92156863],\n",
      "         ..., \n",
      "         [ 0.89411765],\n",
      "         [ 0.89411765],\n",
      "         [ 0.89019608]],\n",
      "\n",
      "        [[ 0.92156863],\n",
      "         [ 0.92156863],\n",
      "         [ 0.92156863],\n",
      "         ..., \n",
      "         [ 0.89803922],\n",
      "         [ 0.89411765],\n",
      "         [ 0.89411765]],\n",
      "\n",
      "        [[ 0.92156863],\n",
      "         [ 0.92156863],\n",
      "         [ 0.92156863],\n",
      "         ..., \n",
      "         [ 0.90588236],\n",
      "         [ 0.89803922],\n",
      "         [ 0.89411765]],\n",
      "\n",
      "        ..., \n",
      "        [[ 0.94901961],\n",
      "         [ 0.94901961],\n",
      "         [ 0.95294118],\n",
      "         ..., \n",
      "         [ 0.92941177],\n",
      "         [ 0.92156863],\n",
      "         [ 0.91764706]],\n",
      "\n",
      "        [[ 0.94901961],\n",
      "         [ 0.94901961],\n",
      "         [ 0.95294118],\n",
      "         ..., \n",
      "         [ 0.91764706],\n",
      "         [ 0.91764706],\n",
      "         [ 0.91764706]],\n",
      "\n",
      "        [[ 0.94509804],\n",
      "         [ 0.94509804],\n",
      "         [ 0.94901961],\n",
      "         ..., \n",
      "         [ 0.91764706],\n",
      "         [ 0.91764706],\n",
      "         [ 0.9137255 ]]],\n",
      "\n",
      "\n",
      "       [[[ 0.48627451],\n",
      "         [ 0.6156863 ],\n",
      "         [ 0.72549021],\n",
      "         ..., \n",
      "         [ 0.45490196],\n",
      "         [ 0.4509804 ],\n",
      "         [ 0.4509804 ]],\n",
      "\n",
      "        [[ 0.57647061],\n",
      "         [ 0.72941178],\n",
      "         [ 0.73333335],\n",
      "         ..., \n",
      "         [ 0.45490196],\n",
      "         [ 0.44313726],\n",
      "         [ 0.43921569]],\n",
      "\n",
      "        [[ 0.71372551],\n",
      "         [ 0.75686276],\n",
      "         [ 0.72941178],\n",
      "         ..., \n",
      "         [ 0.44705883],\n",
      "         [ 0.43529412],\n",
      "         [ 0.44705883]],\n",
      "\n",
      "        ..., \n",
      "        [[ 0.25490198],\n",
      "         [ 0.20392157],\n",
      "         [ 0.1882353 ],\n",
      "         ..., \n",
      "         [ 0.00784314],\n",
      "         [ 0.01176471],\n",
      "         [ 0.01568628]],\n",
      "\n",
      "        [[ 0.18431373],\n",
      "         [ 0.21568628],\n",
      "         [ 0.19607843],\n",
      "         ..., \n",
      "         [ 0.00784314],\n",
      "         [ 0.01176471],\n",
      "         [ 0.01176471]],\n",
      "\n",
      "        [[ 0.22745098],\n",
      "         [ 0.21568628],\n",
      "         [ 0.19607843],\n",
      "         ..., \n",
      "         [ 0.00392157],\n",
      "         [ 0.00784314],\n",
      "         [ 0.01176471]]]], dtype=float32), array([[ 0.,  0.,  0.,  0.,  1.,  0.,  0.],\n",
      "       [ 1.,  0.,  0.,  0.,  0.,  0.,  0.],\n",
      "       [ 1.,  0.,  0.,  0.,  0.,  0.,  0.],\n",
      "       [ 0.,  0.,  1.,  0.,  0.,  0.,  0.],\n",
      "       [ 0.,  0.,  0.,  1.,  0.,  0.,  0.],\n",
      "       [ 0.,  0.,  0.,  1.,  0.,  0.,  0.],\n",
      "       [ 0.,  0.,  0.,  0.,  1.,  0.,  0.],\n",
      "       [ 0.,  0.,  0.,  0.,  0.,  0.,  1.],\n",
      "       [ 0.,  0.,  0.,  0.,  0.,  0.,  1.],\n",
      "       [ 0.,  1.,  0.,  0.,  0.,  0.,  0.],\n",
      "       [ 0.,  0.,  0.,  0.,  0.,  1.,  0.],\n",
      "       [ 1.,  0.,  0.,  0.,  0.,  0.,  0.],\n",
      "       [ 1.,  0.,  0.,  0.,  0.,  0.,  0.],\n",
      "       [ 0.,  0.,  0.,  1.,  0.,  0.,  0.],\n",
      "       [ 1.,  0.,  0.,  0.,  0.,  0.,  0.],\n",
      "       [ 0.,  0.,  0.,  0.,  0.,  0.,  1.],\n",
      "       [ 0.,  0.,  1.,  0.,  0.,  0.,  0.],\n",
      "       [ 0.,  0.,  0.,  1.,  0.,  0.,  0.],\n",
      "       [ 0.,  0.,  0.,  0.,  0.,  0.,  1.],\n",
      "       [ 1.,  0.,  0.,  0.,  0.,  0.,  0.]], dtype=float32))\n"
     ]
    }
   ],
   "source": [
    "print(labels)\n"
   ]
  },
  {
   "cell_type": "code",
   "execution_count": 48,
   "metadata": {},
   "outputs": [
    {
     "name": "stdout",
     "output_type": "stream",
     "text": [
      "(array([[[[ 0.56470591],\n",
      "         [ 0.25098041],\n",
      "         [ 0.05882353],\n",
      "         ..., \n",
      "         [ 0.12156863],\n",
      "         [ 0.18431373],\n",
      "         [ 0.13725491]],\n",
      "\n",
      "        [[ 0.3882353 ],\n",
      "         [ 0.22352941],\n",
      "         [ 0.13333334],\n",
      "         ..., \n",
      "         [ 0.09803922],\n",
      "         [ 0.11764706],\n",
      "         [ 0.11372549]],\n",
      "\n",
      "        [[ 0.47843137],\n",
      "         [ 0.24705882],\n",
      "         [ 0.2       ],\n",
      "         ..., \n",
      "         [ 0.09411765],\n",
      "         [ 0.13725491],\n",
      "         [ 0.06666667]],\n",
      "\n",
      "        ..., \n",
      "        [[ 0.45882353],\n",
      "         [ 0.40392157],\n",
      "         [ 0.3882353 ],\n",
      "         ..., \n",
      "         [ 0.58431375],\n",
      "         [ 0.58431375],\n",
      "         [ 0.58823532]],\n",
      "\n",
      "        [[ 0.44313726],\n",
      "         [ 0.36078432],\n",
      "         [ 0.67450982],\n",
      "         ..., \n",
      "         [ 0.56862748],\n",
      "         [ 0.58039218],\n",
      "         [ 0.57647061]],\n",
      "\n",
      "        [[ 0.3764706 ],\n",
      "         [ 0.51372552],\n",
      "         [ 0.88627452],\n",
      "         ..., \n",
      "         [ 0.58431375],\n",
      "         [ 0.58823532],\n",
      "         [ 0.57254905]]],\n",
      "\n",
      "\n",
      "       [[[ 0.01960784],\n",
      "         [ 0.01960784],\n",
      "         [ 0.01176471],\n",
      "         ..., \n",
      "         [ 0.04313726],\n",
      "         [ 0.05490196],\n",
      "         [ 0.05882353]],\n",
      "\n",
      "        [[ 0.01568628],\n",
      "         [ 0.01568628],\n",
      "         [ 0.01176471],\n",
      "         ..., \n",
      "         [ 0.05098039],\n",
      "         [ 0.0627451 ],\n",
      "         [ 0.05882353]],\n",
      "\n",
      "        [[ 0.01176471],\n",
      "         [ 0.01176471],\n",
      "         [ 0.01568628],\n",
      "         ..., \n",
      "         [ 0.05098039],\n",
      "         [ 0.05882353],\n",
      "         [ 0.05490196]],\n",
      "\n",
      "        ..., \n",
      "        [[ 0.01960784],\n",
      "         [ 0.01960784],\n",
      "         [ 0.01568628],\n",
      "         ..., \n",
      "         [ 0.21960784],\n",
      "         [ 0.23921569],\n",
      "         [ 0.35686275]],\n",
      "\n",
      "        [[ 0.01960784],\n",
      "         [ 0.01568628],\n",
      "         [ 0.01960784],\n",
      "         ..., \n",
      "         [ 0.24705882],\n",
      "         [ 0.3882353 ],\n",
      "         [ 0.39607844]],\n",
      "\n",
      "        [[ 0.01568628],\n",
      "         [ 0.01960784],\n",
      "         [ 0.01960784],\n",
      "         ..., \n",
      "         [ 0.33725491],\n",
      "         [ 0.40392157],\n",
      "         [ 0.3137255 ]]],\n",
      "\n",
      "\n",
      "       [[[ 0.24705882],\n",
      "         [ 0.24705882],\n",
      "         [ 0.25098041],\n",
      "         ..., \n",
      "         [ 0.25490198],\n",
      "         [ 0.23921569],\n",
      "         [ 0.27058825]],\n",
      "\n",
      "        [[ 0.24705882],\n",
      "         [ 0.24705882],\n",
      "         [ 0.25098041],\n",
      "         ..., \n",
      "         [ 0.26666668],\n",
      "         [ 0.27058825],\n",
      "         [ 0.23137255]],\n",
      "\n",
      "        [[ 0.25098041],\n",
      "         [ 0.25098041],\n",
      "         [ 0.25098041],\n",
      "         ..., \n",
      "         [ 0.50196081],\n",
      "         [ 0.35294119],\n",
      "         [ 0.30980393]],\n",
      "\n",
      "        ..., \n",
      "        [[ 0.89019608],\n",
      "         [ 0.88627452],\n",
      "         [ 0.82352942],\n",
      "         ..., \n",
      "         [ 0.92156863],\n",
      "         [ 0.89019608],\n",
      "         [ 0.90588236]],\n",
      "\n",
      "        [[ 0.87843138],\n",
      "         [ 0.90196079],\n",
      "         [ 0.84705883],\n",
      "         ..., \n",
      "         [ 0.90196079],\n",
      "         [ 0.89019608],\n",
      "         [ 0.90196079]],\n",
      "\n",
      "        [[ 0.87450981],\n",
      "         [ 0.89411765],\n",
      "         [ 0.86274511],\n",
      "         ..., \n",
      "         [ 0.89019608],\n",
      "         [ 0.89411765],\n",
      "         [ 0.89803922]]],\n",
      "\n",
      "\n",
      "       ..., \n",
      "       [[[ 0.99607843],\n",
      "         [ 0.98039216],\n",
      "         [ 0.83137256],\n",
      "         ..., \n",
      "         [ 0.88235295],\n",
      "         [ 0.90980393],\n",
      "         [ 0.85490197]],\n",
      "\n",
      "        [[ 1.        ],\n",
      "         [ 0.98039216],\n",
      "         [ 0.82745099],\n",
      "         ..., \n",
      "         [ 0.8509804 ],\n",
      "         [ 0.89411765],\n",
      "         [ 0.85490197]],\n",
      "\n",
      "        [[ 1.        ],\n",
      "         [ 0.97254902],\n",
      "         [ 0.83137256],\n",
      "         ..., \n",
      "         [ 0.83137256],\n",
      "         [ 0.89803922],\n",
      "         [ 0.87450981]],\n",
      "\n",
      "        ..., \n",
      "        [[ 1.        ],\n",
      "         [ 1.        ],\n",
      "         [ 0.99607843],\n",
      "         ..., \n",
      "         [ 0.        ],\n",
      "         [ 0.01568628],\n",
      "         [ 0.18039216]],\n",
      "\n",
      "        [[ 1.        ],\n",
      "         [ 1.        ],\n",
      "         [ 0.99607843],\n",
      "         ..., \n",
      "         [ 0.00392157],\n",
      "         [ 0.01960784],\n",
      "         [ 0.18431373]],\n",
      "\n",
      "        [[ 1.        ],\n",
      "         [ 1.        ],\n",
      "         [ 0.99607843],\n",
      "         ..., \n",
      "         [ 0.00784314],\n",
      "         [ 0.02352941],\n",
      "         [ 0.17254902]]],\n",
      "\n",
      "\n",
      "       [[[ 0.58823532],\n",
      "         [ 0.59607846],\n",
      "         [ 0.6156863 ],\n",
      "         ..., \n",
      "         [ 0.56470591],\n",
      "         [ 0.58431375],\n",
      "         [ 0.59607846]],\n",
      "\n",
      "        [[ 0.5529412 ],\n",
      "         [ 0.56470591],\n",
      "         [ 0.58823532],\n",
      "         ..., \n",
      "         [ 0.52549022],\n",
      "         [ 0.52941179],\n",
      "         [ 0.5411765 ]],\n",
      "\n",
      "        [[ 0.5529412 ],\n",
      "         [ 0.54901963],\n",
      "         [ 0.57254905],\n",
      "         ..., \n",
      "         [ 0.4627451 ],\n",
      "         [ 0.4509804 ],\n",
      "         [ 0.45882353]],\n",
      "\n",
      "        ..., \n",
      "        [[ 0.82352942],\n",
      "         [ 0.80784315],\n",
      "         [ 0.7764706 ],\n",
      "         ..., \n",
      "         [ 0.77254903],\n",
      "         [ 0.78431374],\n",
      "         [ 0.78823531]],\n",
      "\n",
      "        [[ 0.78431374],\n",
      "         [ 0.79215688],\n",
      "         [ 0.78431374],\n",
      "         ..., \n",
      "         [ 0.81176472],\n",
      "         [ 0.80000001],\n",
      "         [ 0.78039217]],\n",
      "\n",
      "        [[ 0.78431374],\n",
      "         [ 0.78039217],\n",
      "         [ 0.78431374],\n",
      "         ..., \n",
      "         [ 0.80784315],\n",
      "         [ 0.82745099],\n",
      "         [ 0.79607844]]],\n",
      "\n",
      "\n",
      "       [[[ 0.43921569],\n",
      "         [ 0.36470589],\n",
      "         [ 0.39215687],\n",
      "         ..., \n",
      "         [ 0.81568629],\n",
      "         [ 0.79607844],\n",
      "         [ 0.79215688]],\n",
      "\n",
      "        [[ 0.39215687],\n",
      "         [ 0.37254903],\n",
      "         [ 0.40784314],\n",
      "         ..., \n",
      "         [ 0.75294119],\n",
      "         [ 0.74117649],\n",
      "         [ 0.74901962]],\n",
      "\n",
      "        [[ 0.38431373],\n",
      "         [ 0.33333334],\n",
      "         [ 0.35294119],\n",
      "         ..., \n",
      "         [ 0.68627453],\n",
      "         [ 0.7019608 ],\n",
      "         [ 0.73333335]],\n",
      "\n",
      "        ..., \n",
      "        [[ 0.49019608],\n",
      "         [ 0.47058824],\n",
      "         [ 0.4509804 ],\n",
      "         ..., \n",
      "         [ 0.12941177],\n",
      "         [ 0.15294118],\n",
      "         [ 0.15686275]],\n",
      "\n",
      "        [[ 0.49803922],\n",
      "         [ 0.47450981],\n",
      "         [ 0.45490196],\n",
      "         ..., \n",
      "         [ 0.22745098],\n",
      "         [ 0.14117648],\n",
      "         [ 0.15294118]],\n",
      "\n",
      "        [[ 0.50588238],\n",
      "         [ 0.47058824],\n",
      "         [ 0.44313726],\n",
      "         ..., \n",
      "         [ 0.34509805],\n",
      "         [ 0.16862746],\n",
      "         [ 0.14901961]]]], dtype=float32), array([[ 0.,  0.,  0.,  0.,  1.,  0.,  0.],\n",
      "       [ 1.,  0.,  0.,  0.,  0.,  0.,  0.],\n",
      "       [ 0.,  0.,  0.,  1.,  0.,  0.,  0.],\n",
      "       [ 0.,  0.,  0.,  0.,  0.,  0.,  1.],\n",
      "       [ 0.,  0.,  0.,  1.,  0.,  0.,  0.],\n",
      "       [ 0.,  0.,  0.,  0.,  0.,  1.,  0.],\n",
      "       [ 0.,  0.,  0.,  0.,  0.,  0.,  1.],\n",
      "       [ 0.,  0.,  0.,  0.,  0.,  0.,  1.],\n",
      "       [ 0.,  0.,  0.,  0.,  1.,  0.,  0.],\n",
      "       [ 0.,  0.,  0.,  0.,  0.,  0.,  1.],\n",
      "       [ 0.,  0.,  0.,  0.,  1.,  0.,  0.],\n",
      "       [ 0.,  0.,  0.,  0.,  1.,  0.,  0.],\n",
      "       [ 0.,  0.,  0.,  0.,  1.,  0.,  0.],\n",
      "       [ 0.,  0.,  0.,  0.,  0.,  0.,  1.],\n",
      "       [ 1.,  0.,  0.,  0.,  0.,  0.,  0.],\n",
      "       [ 0.,  0.,  0.,  1.,  0.,  0.,  0.],\n",
      "       [ 0.,  0.,  0.,  0.,  1.,  0.,  0.],\n",
      "       [ 0.,  0.,  0.,  0.,  0.,  0.,  1.],\n",
      "       [ 0.,  0.,  0.,  0.,  1.,  0.,  0.],\n",
      "       [ 0.,  0.,  0.,  1.,  0.,  0.,  0.]], dtype=float32))\n"
     ]
    }
   ],
   "source": [
    "gen = ImageDataGenerator()\n",
    "test_generator = gen.flow(x_test, y_test, batch_size=batch_size)\n",
    "test_labels=next(test_generator)\n",
    "print(test_labels)"
   ]
  },
  {
   "cell_type": "code",
   "execution_count": 49,
   "metadata": {},
   "outputs": [],
   "source": [
    "predictions= model.predict_generator(test_generator,steps=1, verbose=0)"
   ]
  },
  {
   "cell_type": "code",
   "execution_count": 50,
   "metadata": {},
   "outputs": [
    {
     "data": {
      "text/plain": [
       "array([[ 0.12167851,  0.02362666,  0.15404083,  0.23800205,  0.17458773,\n",
       "         0.11431216,  0.17375208],\n",
       "       [ 0.12168675,  0.02365539,  0.15406613,  0.23782335,  0.17468435,\n",
       "         0.11427087,  0.1738131 ],\n",
       "       [ 0.11510243,  0.01626175,  0.1528661 ,  0.25610006,  0.17625375,\n",
       "         0.10738409,  0.17603184],\n",
       "       [ 0.12720856,  0.03258036,  0.15416309,  0.22242028,  0.17229433,\n",
       "         0.11956016,  0.17177321],\n",
       "       [ 0.12643087,  0.03139781,  0.15401572,  0.22439179,  0.17258266,\n",
       "         0.11893485,  0.17224628],\n",
       "       [ 0.11827309,  0.01951225,  0.15341723,  0.2473156 ,  0.17567384,\n",
       "         0.11066064,  0.17514731],\n",
       "       [ 0.12202902,  0.02385864,  0.15456015,  0.2372068 ,  0.17436391,\n",
       "         0.11497452,  0.17300689],\n",
       "       [ 0.12903085,  0.03510442,  0.15337659,  0.21825995,  0.17159946,\n",
       "         0.11967935,  0.17294931],\n",
       "       [ 0.12050591,  0.0223366 ,  0.15381722,  0.24093193,  0.17512986,\n",
       "         0.11304041,  0.17423809],\n",
       "       [ 0.12270043,  0.02490101,  0.1536876 ,  0.23546977,  0.17437999,\n",
       "         0.11445186,  0.17440934],\n",
       "       [ 0.11647898,  0.01772091,  0.15325505,  0.25219029,  0.17593826,\n",
       "         0.10909753,  0.17531899],\n",
       "       [ 0.12393702,  0.02662564,  0.15406868,  0.23214215,  0.1736048 ,\n",
       "         0.11616348,  0.17345823],\n",
       "       [ 0.13318309,  0.04641565,  0.15361331,  0.20464568,  0.16831662,\n",
       "         0.12558435,  0.16824129],\n",
       "       [ 0.12618746,  0.03063372,  0.15504384,  0.22529684,  0.17233333,\n",
       "         0.11975515,  0.1707496 ],\n",
       "       [ 0.1172953 ,  0.01852504,  0.15295088,  0.25005519,  0.17593223,\n",
       "         0.10945287,  0.17578846],\n",
       "       [ 0.11956671,  0.02117459,  0.15385677,  0.24336894,  0.17563625,\n",
       "         0.11211687,  0.1742799 ],\n",
       "       [ 0.12173279,  0.02354509,  0.15414152,  0.23810017,  0.17442454,\n",
       "         0.11434368,  0.17371219],\n",
       "       [ 0.10972974,  0.01208938,  0.15131485,  0.27053851,  0.17721806,\n",
       "         0.10201223,  0.17709729],\n",
       "       [ 0.13196416,  0.04295829,  0.15403634,  0.20873785,  0.16892254,\n",
       "         0.12445142,  0.16892947],\n",
       "       [ 0.11673242,  0.01783734,  0.1529649 ,  0.25182164,  0.17583476,\n",
       "         0.10885916,  0.17594974]], dtype=float32)"
      ]
     },
     "execution_count": 50,
     "metadata": {},
     "output_type": "execute_result"
    }
   ],
   "source": [
    "predictions"
   ]
  },
  {
   "cell_type": "code",
   "execution_count": null,
   "metadata": {},
   "outputs": [],
   "source": []
  },
  {
   "cell_type": "code",
   "execution_count": 12,
   "metadata": {},
   "outputs": [
    {
     "data": {
      "image/png": "[encoded data removed]",
      "text/plain": [
       "<matplotlib.figure.Figure at 0x16a7a6c5978>"
      ]
     },
     "metadata": {},
     "output_type": "display_data"
    },
    {
     "name": "stdout",
     "output_type": "stream",
     "text": [
      "[ 0.09581087  0.01847319  0.17329325  0.03421411  0.37736422  0.06055538\n",
      "  0.24028902]\n"
     ]
    },
    {
     "data": {
      "image/png": "[encoded data removed]",
      "text/plain": [
       "<matplotlib.figure.Figure at 0x16a7a693ac8>"
      ]
     },
     "metadata": {},
     "output_type": "display_data"
    },
    {
     "name": "stdout",
     "output_type": "stream",
     "text": [
      "----------------------------------------------\n"
     ]
    },
    {
     "data": {
      "image/png": "[encoded data removed]",
      "text/plain": [
       "<matplotlib.figure.Figure at 0x16aef4a7470>"
      ]
     },
     "metadata": {},
     "output_type": "display_data"
    },
    {
     "name": "stdout",
     "output_type": "stream",
     "text": [
      "[ 0.01744858  0.00239309  0.11703113  0.00979762  0.01021854  0.83432037\n",
      "  0.00879062]\n"
     ]
    },
    {
     "data": {
      "image/png": "[encoded data removed]",
      "text/plain": [
       "<matplotlib.figure.Figure at 0x16aef591978>"
      ]
     },
     "metadata": {},
     "output_type": "display_data"
    },
    {
     "name": "stdout",
     "output_type": "stream",
     "text": [
      "----------------------------------------------\n"
     ]
    },
    {
     "data": {
      "image/png": "[encoded data removed]",
      "text/plain": [
       "<matplotlib.figure.Figure at 0x16aef3d8630>"
      ]
     },
     "metadata": {},
     "output_type": "display_data"
    },
    {
     "name": "stdout",
     "output_type": "stream",
     "text": [
      "[ 0.10084527  0.01506508  0.14966407  0.05749732  0.33364415  0.03709726\n",
      "  0.30618688]\n"
     ]
    },
    {
     "data": {
      "image/png": "[encoded data removed]",
      "text/plain": [
       "<matplotlib.figure.Figure at 0x16aedc11550>"
      ]
     },
     "metadata": {},
     "output_type": "display_data"
    },
    {
     "name": "stdout",
     "output_type": "stream",
     "text": [
      "----------------------------------------------\n"
     ]
    },
    {
     "data": {
      "image/png": "[encoded data removed]",
      "text/plain": [
       "<matplotlib.figure.Figure at 0x16aef477748>"
      ]
     },
     "metadata": {},
     "output_type": "display_data"
    },
    {
     "name": "stdout",
     "output_type": "stream",
     "text": [
      "[ 0.13432465  0.01059375  0.17886598  0.08375355  0.41630086  0.03272021\n",
      "  0.14344098]\n"
     ]
    },
    {
     "data": {
      "image/png": "[encoded data removed]",
      "text/plain": [
       "<matplotlib.figure.Figure at 0x16a7a6db780>"
      ]
     },
     "metadata": {},
     "output_type": "display_data"
    },
    {
     "name": "stdout",
     "output_type": "stream",
     "text": [
      "----------------------------------------------\n"
     ]
    },
    {
     "data": {
      "image/png": "[encoded data removed]",
      "text/plain": [
       "<matplotlib.figure.Figure at 0x16a7a614128>"
      ]
     },
     "metadata": {},
     "output_type": "display_data"
    },
    {
     "name": "stdout",
     "output_type": "stream",
     "text": [
      "[ 0.11705126  0.01856994  0.13004678  0.08603799  0.42967042  0.01671837\n",
      "  0.20190519]\n"
     ]
    },
    {
     "data": {
      "image/png": "[encoded data removed]",
      "text/plain": [
       "<matplotlib.figure.Figure at 0x16aedc62898>"
      ]
     },
     "metadata": {},
     "output_type": "display_data"
    },
    {
     "name": "stdout",
     "output_type": "stream",
     "text": [
      "----------------------------------------------\n"
     ]
    },
    {
     "data": {
      "image/png": "[encoded data removed]",
      "text/plain": [
       "<matplotlib.figure.Figure at 0x16aedcc57f0>"
      ]
     },
     "metadata": {},
     "output_type": "display_data"
    },
    {
     "name": "stdout",
     "output_type": "stream",
     "text": [
      "[ 0.08000249  0.01165563  0.09765311  0.07963462  0.24351442  0.02994696\n",
      "  0.45759273]\n"
     ]
    },
    {
     "data": {
      "image/png": "[encoded data removed]",
      "text/plain": [
       "<matplotlib.figure.Figure at 0x16a7a6ba358>"
      ]
     },
     "metadata": {},
     "output_type": "display_data"
    },
    {
     "name": "stdout",
     "output_type": "stream",
     "text": [
      "----------------------------------------------\n"
     ]
    },
    {
     "data": {
      "image/png": "[encoded data removed]",
      "text/plain": [
       "<matplotlib.figure.Figure at 0x16aef782c50>"
      ]
     },
     "metadata": {},
     "output_type": "display_data"
    },
    {
     "name": "stdout",
     "output_type": "stream",
     "text": [
      "[ 0.10148257  0.02633806  0.16692817  0.08792926  0.40507862  0.02538734\n",
      "  0.18685596]\n"
     ]
    },
    {
     "data": {
      "image/png": "[encoded data removed]",
      "text/plain": [
       "<matplotlib.figure.Figure at 0x16aef5e8668>"
      ]
     },
     "metadata": {},
     "output_type": "display_data"
    },
    {
     "name": "stdout",
     "output_type": "stream",
     "text": [
      "----------------------------------------------\n"
     ]
    },
    {
     "data": {
      "image/png": "[encoded data removed]",
      "text/plain": [
       "<matplotlib.figure.Figure at 0x16aef33be80>"
      ]
     },
     "metadata": {},
     "output_type": "display_data"
    },
    {
     "name": "stdout",
     "output_type": "stream",
     "text": [
      "[ 0.08577788  0.00742464  0.13905309  0.13909902  0.2112149   0.05857405\n",
      "  0.35885644]\n"
     ]
    },
    {
     "data": {
      "image/png": "[encoded data removed]",
      "text/plain": [
       "<matplotlib.figure.Figure at 0x16aef75aa58>"
      ]
     },
     "metadata": {},
     "output_type": "display_data"
    },
    {
     "name": "stdout",
     "output_type": "stream",
     "text": [
      "----------------------------------------------\n"
     ]
    },
    {
     "data": {
      "image/png": "[encoded data removed]",
      "text/plain": [
       "<matplotlib.figure.Figure at 0x16aedcb2cc0>"
      ]
     },
     "metadata": {},
     "output_type": "display_data"
    },
    {
     "name": "stdout",
     "output_type": "stream",
     "text": [
      "[ 0.09312209  0.01135488  0.22145849  0.0291089   0.03847878  0.59191084\n",
      "  0.01456603]\n"
     ]
    },
    {
     "data": {
      "image/png": "[encoded data removed]",
      "text/plain": [
       "<matplotlib.figure.Figure at 0x16aeef20518>"
      ]
     },
     "metadata": {},
     "output_type": "display_data"
    },
    {
     "name": "stdout",
     "output_type": "stream",
     "text": [
      "----------------------------------------------\n"
     ]
    },
    {
     "data": {
      "image/png": "[encoded data removed]",
      "text/plain": [
       "<matplotlib.figure.Figure at 0x16aedc58208>"
      ]
     },
     "metadata": {},
     "output_type": "display_data"
    },
    {
     "name": "stdout",
     "output_type": "stream",
     "text": [
      "[ 0.0117969   0.00179322  0.14234251  0.00624514  0.01572569  0.79757595\n",
      "  0.02452059]\n"
     ]
    },
    {
     "data": {
      "image/png": "[encoded data removed]",
      "text/plain": [
       "<matplotlib.figure.Figure at 0x16aedbe05c0>"
      ]
     },
     "metadata": {},
     "output_type": "display_data"
    },
    {
     "name": "stdout",
     "output_type": "stream",
     "text": [
      "----------------------------------------------\n"
     ]
    },
    {
     "data": {
      "image/png": "[encoded data removed]",
      "text/plain": [
       "<matplotlib.figure.Figure at 0x16aef3eeb38>"
      ]
     },
     "metadata": {},
     "output_type": "display_data"
    },
    {
     "data": {
      "image/png": "[encoded data removed]",
      "text/plain": [
       "<matplotlib.figure.Figure at 0x16aef70cc50>"
      ]
     },
     "metadata": {},
     "output_type": "display_data"
    }
   ],
   "source": [
    "from IPython.display import display\n",
    "from PIL import Image\n",
    "\n",
    "def emotion_analysis(emotions):\n",
    "    objects = ('angry', 'disgust', 'fear', 'happy', 'sad', 'surprise', 'neutral') #array is set accordingly\n",
    "    y_pos = np.arange(len(objects))\n",
    "    \n",
    "    plt.bar(y_pos, emotions, align='center', alpha=0.5)\n",
    "    plt.xticks(y_pos, objects)\n",
    "    plt.ylabel('accuracy percentile')\n",
    "    plt.title('emotion')\n",
    "    plt.show()\n",
    "    \n",
    "    \n",
    "monitor_testset_results = True\n",
    "\n",
    "if monitor_testset_results == True:\n",
    "    #make predictions for test set only if necessary\n",
    "    predictions = model.predict(x_test)\n",
    "\n",
    "    index = 0\n",
    "    for i in predictions:\n",
    "        if index < 30 and index >= 20:\n",
    "            #print(i) #predicted scores\n",
    "            #print(y_test[index]) #actual scores\n",
    "            \n",
    "            testing_img = np.array(x_test[index], 'float32')\n",
    "            testing_img = testing_img.reshape([48, 48]);\n",
    "        \n",
    "            plt.gray()\n",
    "            plt.imshow(testing_img)\n",
    "            plt.show()\n",
    "            \n",
    "            print(i)\n",
    "            \n",
    "            emotion_analysis(i)\n",
    "            print(\"----------------------------------------------\")\n",
    "        index = index + 1\n",
    " \n",
    "     \n",
    "img= image.load_img(\"./Desktop/testimg.jpg\", grayscale=True, target_size=(48, 48))\n",
    "\n",
    "x = image.img_to_array(img)\n",
    "x = np.expand_dims(x, axis = 0)\n",
    "\n",
    "x /= 255\n",
    "\n",
    "custom = model.predict(x)\n",
    "emotion_analysis(custom[0])\n",
    "\n",
    "x = np.array(x, 'float32')\n",
    "x = x.reshape([48, 48]);\n",
    "\n",
    "plt.gray()\n",
    "plt.imshow(x)\n",
    "plt.show()"
   ]
  },
  {
   "cell_type": "code",
   "execution_count": 11,
   "metadata": {},
   "outputs": [
    {
     "data": {
      "image/png": "[encoded data removed]",
      "text/plain": [
       "<matplotlib.figure.Figure at 0x16aef2ed128>"
      ]
     },
     "metadata": {},
     "output_type": "display_data"
    },
    {
     "data": {
      "image/png": "[encoded data removed]",
      "text/plain": [
       "<matplotlib.figure.Figure at 0x16a7a60f4e0>"
      ]
     },
     "metadata": {},
     "output_type": "display_data"
    }
   ],
   "source": [
    "from IPython.display import display\n",
    "from PIL import Image\n",
    "\n",
    "def emotion_analysis(emotions):\n",
    "    objects = ('angry', 'disgust', 'fear', 'happy', 'sad', 'surprise', 'neutral') #array is set accordingly\n",
    "    y_pos = np.arange(len(objects))\n",
    "    \n",
    "    plt.bar(y_pos, emotions, align='center', alpha=0.5)\n",
    "    plt.xticks(y_pos, objects)\n",
    "    plt.ylabel('accuracy percentile')\n",
    "    plt.title('emotion')\n",
    "    plt.show()\n",
    "    \n",
    "    \n",
    "monitor_testset_results = False\n",
    "\n",
    "if monitor_testset_results == True:\n",
    "    #make predictions for test set\n",
    "    predictions = model.predict(x_test)\n",
    "\n",
    "    index = 0\n",
    "    print('hello')\n",
    "    for i in predictions:\n",
    "        if index < 30 and index >= 20:\n",
    "            #print(i) #predicted scores\n",
    "            #print(y_test[index]) #actual scores\n",
    "            \n",
    "            testing_img = np.array(x_test[index], 'float32')\n",
    "            testing_img = testing_img.reshape([48, 48]);\n",
    "        \n",
    "            plt.gray()\n",
    "            plt.imshow(testing_img)\n",
    "            plt.show()\n",
    "            \n",
    "            print(i)\n",
    "            \n",
    "            emotion_analysis(i)\n",
    "            print(\"----------------------------------------------\")\n",
    "        index = index + 1\n",
    " \n",
    "     \n",
    "img= image.load_img(\"./Desktop/testsad.jpg\", grayscale=True, target_size=(48, 48))\n",
    "\n",
    "x = image.img_to_array(img)\n",
    "x = np.expand_dims(x, axis = 0)\n",
    "\n",
    "x /= 255\n",
    "\n",
    "custom = model.predict(x)\n",
    "emotion_analysis(custom[0])\n",
    "\n",
    "x = np.array(x, 'float32')\n",
    "x = x.reshape([48, 48]);\n",
    "\n",
    "plt.gray()\n",
    "plt.imshow(x)\n",
    "plt.show()"
   ]
  },
  {
   "cell_type": "code",
   "execution_count": 65,
   "metadata": {},
   "outputs": [
    {
     "data": {
      "image/png": "[encoded data removed]",
      "text/plain": [
       "<matplotlib.figure.Figure at 0x1eac23b9668>"
      ]
     },
     "metadata": {},
     "output_type": "display_data"
    },
    {
     "data": {
      "image/png": "[encoded data removed]",
      "text/plain": [
       "<matplotlib.figure.Figure at 0x1eb6ff6ca90>"
      ]
     },
     "metadata": {},
     "output_type": "display_data"
    }
   ],
   "source": [
    "from IPython.display import display\n",
    "from PIL import Image\n",
    "\n",
    "def emotion_analysis(emotions):\n",
    "    objects = ('angry', 'disgust', 'fear', 'happy', 'sad', 'surprise', 'neutral') #array is set accordingly\n",
    "    y_pos = np.arange(len(objects))\n",
    "    \n",
    "    plt.bar(y_pos, emotions, align='center', alpha=0.5)\n",
    "    plt.xticks(y_pos, objects)\n",
    "    plt.ylabel('accuracy percentile')\n",
    "    plt.title('emotion')\n",
    "    plt.show()\n",
    "    \n",
    "    \n",
    "monitor_testset_results = False\n",
    "\n",
    "if monitor_testset_results == True:\n",
    "    #make predictions for test set\n",
    "    predictions = model.predict(x_test)\n",
    "\n",
    "    index = 0\n",
    "    print('hello')\n",
    "    for i in predictions:\n",
    "        if index < 30 and index >= 20:\n",
    "            #print(i) #predicted scores\n",
    "            #print(y_test[index]) #actual scores\n",
    "            \n",
    "            testing_img = np.array(x_test[index], 'float32')\n",
    "            testing_img = testing_img.reshape([48, 48]);\n",
    "        \n",
    "            plt.gray()\n",
    "            plt.imshow(testing_img)\n",
    "            plt.show()\n",
    "            \n",
    "            print(i)\n",
    "            \n",
    "            emotion_analysis(i)\n",
    "            print(\"----------------------------------------------\")\n",
    "        index = index + 1\n",
    " \n",
    "     \n",
    "img= image.load_img(\"./Desktop/testangry.jpg\", grayscale=True, target_size=(48, 48))\n",
    "\n",
    "x = image.img_to_array(img)\n",
    "x = np.expand_dims(x, axis = 0)\n",
    "\n",
    "x /= 255\n",
    "\n",
    "custom = model.predict(x)\n",
    "emotion_analysis(custom[0])\n",
    "\n",
    "x = np.array(x, 'float32')\n",
    "x = x.reshape([48, 48]);\n",
    "\n",
    "plt.gray()\n",
    "plt.imshow(x)\n",
    "plt.show()"
   ]
  },
  {
   "cell_type": "code",
   "execution_count": 66,
   "metadata": {},
   "outputs": [
    {
     "data": {
      "image/png": "[encoded data removed]",
      "text/plain": [
       "<matplotlib.figure.Figure at 0x1eac93eec18>"
      ]
     },
     "metadata": {},
     "output_type": "display_data"
    },
    {
     "data": {
      "image/png": "[encoded data removed]",
      "text/plain": [
       "<matplotlib.figure.Figure at 0x1eac93f1710>"
      ]
     },
     "metadata": {},
     "output_type": "display_data"
    }
   ],
   "source": [
    "from IPython.display import display\n",
    "from PIL import Image\n",
    "\n",
    "def emotion_analysis(emotions):\n",
    "    objects = ('angry', 'disgust', 'fear', 'happy', 'sad', 'surprise', 'neutral') #array is set accordingly\n",
    "    y_pos = np.arange(len(objects))\n",
    "    \n",
    "    plt.bar(y_pos, emotions, align='center', alpha=0.5)\n",
    "    plt.xticks(y_pos, objects)\n",
    "    plt.ylabel('accuracy percentile')\n",
    "    plt.title('emotion')\n",
    "    plt.show()\n",
    "    \n",
    "    \n",
    "monitor_testset_results = False\n",
    "\n",
    "if monitor_testset_results == True:\n",
    "    #make predictions for test set\n",
    "    predictions = model.predict(x_test)\n",
    "\n",
    "    index = 0\n",
    "    print('hello')\n",
    "    for i in predictions:\n",
    "        if index < 30 and index >= 20:\n",
    "            #print(i) #predicted scores\n",
    "            #print(y_test[index]) #actual scores\n",
    "            \n",
    "            testing_img = np.array(x_test[index], 'float32')\n",
    "            testing_img = testing_img.reshape([48, 48]);\n",
    "        \n",
    "            plt.gray()\n",
    "            plt.imshow(testing_img)\n",
    "            plt.show()\n",
    "            \n",
    "            print(i)\n",
    "            \n",
    "            emotion_analysis(i)\n",
    "            print(\"----------------------------------------------\")\n",
    "        index = index + 1\n",
    " \n",
    "     \n",
    "img= image.load_img(\"./Desktop/testsurprise.jpg\", grayscale=True, target_size=(48, 48))\n",
    "\n",
    "x = image.img_to_array(img)\n",
    "x = np.expand_dims(x, axis = 0)\n",
    "\n",
    "x /= 255\n",
    "\n",
    "custom = model.predict(x)\n",
    "emotion_analysis(custom[0])\n",
    "\n",
    "x = np.array(x, 'float32')\n",
    "x = x.reshape([48, 48]);\n",
    "\n",
    "plt.gray()\n",
    "plt.imshow(x)\n",
    "plt.show()"
   ]
  },
  {
   "cell_type": "code",
   "execution_count": 1,
   "metadata": {},
   "outputs": [
    {
     "ename": "NameError",
     "evalue": "name 'image' is not defined",
     "output_type": "error",
     "traceback": [
      "\u001b[1;31m---------------------------------------------------------------------------\u001b[0m",
      "\u001b[1;31mNameError\u001b[0m                                 Traceback (most recent call last)",
      "\u001b[1;32m<ipython-input-1-13d565c16174>\u001b[0m in \u001b[0;36m<module>\u001b[1;34m()\u001b[0m\n\u001b[0;32m     40\u001b[0m \u001b[1;33m\u001b[0m\u001b[0m\n\u001b[0;32m     41\u001b[0m \u001b[1;33m\u001b[0m\u001b[0m\n\u001b[1;32m---> 42\u001b[1;33m \u001b[0mimg\u001b[0m\u001b[1;33m=\u001b[0m \u001b[0mimage\u001b[0m\u001b[1;33m.\u001b[0m\u001b[0mload_img\u001b[0m\u001b[1;33m(\u001b[0m\u001b[1;34m\"./Desktop/testsurprise.jpg\"\u001b[0m\u001b[1;33m,\u001b[0m \u001b[0mgrayscale\u001b[0m\u001b[1;33m=\u001b[0m\u001b[1;32mTrue\u001b[0m\u001b[1;33m,\u001b[0m \u001b[0mtarget_size\u001b[0m\u001b[1;33m=\u001b[0m\u001b[1;33m(\u001b[0m\u001b[1;36m48\u001b[0m\u001b[1;33m,\u001b[0m \u001b[1;36m48\u001b[0m\u001b[1;33m)\u001b[0m\u001b[1;33m)\u001b[0m\u001b[1;33m\u001b[0m\u001b[0m\n\u001b[0m\u001b[0;32m     43\u001b[0m \u001b[1;33m\u001b[0m\u001b[0m\n\u001b[0;32m     44\u001b[0m \u001b[0mx\u001b[0m \u001b[1;33m=\u001b[0m \u001b[0mimage\u001b[0m\u001b[1;33m.\u001b[0m\u001b[0mimg_to_array\u001b[0m\u001b[1;33m(\u001b[0m\u001b[0mimg\u001b[0m\u001b[1;33m)\u001b[0m\u001b[1;33m\u001b[0m\u001b[0m\n",
      "\u001b[1;31mNameError\u001b[0m: name 'image' is not defined"
     ]
    }
   ],
   "source": [
    "from IPython.display import display\n",
    "from PIL import Image\n",
    "\n",
    "def emotion_analysis(emotions):\n",
    "    objects = ('angry', 'disgust', 'fear', 'happy', 'sad', 'surprise', 'neutral') #array is set accordingly\n",
    "    y_pos = np.arange(len(objects))\n",
    "    \n",
    "    plt.bar(y_pos, emotions, align='center', alpha=0.5)\n",
    "    plt.xticks(y_pos, objects)\n",
    "    plt.ylabel('accuracy percentile')\n",
    "    plt.title('emotion')\n",
    "    plt.show()\n",
    "    \n",
    "    \n",
    "monitor_testset_results = False\n",
    "\n",
    "if monitor_testset_results == True:\n",
    "    #make predictions for test set\n",
    "    predictions = model.predict(x_test)\n",
    "\n",
    "    index = 0\n",
    "    print('hello')\n",
    "    for i in predictions:\n",
    "        if index < 30 and index >= 20:\n",
    "            #print(i) #predicted scores\n",
    "            #print(y_test[index]) #actual scores\n",
    "            \n",
    "            testing_img = np.array(x_test[index], 'float32')\n",
    "            testing_img = testing_img.reshape([48, 48]);\n",
    "        \n",
    "            plt.gray()\n",
    "            plt.imshow(testing_img)\n",
    "            plt.show()\n",
    "            \n",
    "            print(i)\n",
    "            \n",
    "            emotion_analysis(i)\n",
    "            print(\"----------------------------------------------\")\n",
    "        index = index + 1\n",
    " \n",
    "     \n",
    "img= image.load_img(\"./Desktop/testsurprise.jpg\", grayscale=True, target_size=(48, 48))\n",
    "\n",
    "x = image.img_to_array(img)\n",
    "print(x)\n",
    "x = np.expand_dims(x, axis = 0)\n",
    "\n",
    "x /= 255\n",
    "\n",
    "custom = model.predict(x)\n",
    "emotion_analysis(custom[0])\n",
    "\n",
    "x = np.array(x, 'float32')\n",
    "x = x.reshape([48, 48]);\n",
    "print(x)\n",
    "plt.gray()\n",
    "plt.imshow(x)\n",
    "plt.show()"
   ]
  },
  {
   "cell_type": "code",
   "execution_count": 5,
   "metadata": {},
   "outputs": [],
   "source": [
    "from keras.models import load_model\n",
    "\n",
    "#model.save('project_emotion.h5')"
   ]
  },
  {
   "cell_type": "code",
   "execution_count": 6,
   "metadata": {},
   "outputs": [],
   "source": [
    "model=load_model('project_emotion.h5')"
   ]
  },
  {
   "cell_type": "code",
   "execution_count": 71,
   "metadata": {},
   "outputs": [],
   "source": [
    "model.save_weights('my_model_weights.h5')"
   ]
  },
  {
   "cell_type": "code",
   "execution_count": 8,
   "metadata": {},
   "outputs": [],
   "source": [
    "model.load_weights('my_model_weights.h5')"
   ]
  },
  {
   "cell_type": "code",
   "execution_count": null,
   "metadata": {},
   "outputs": [],
   "source": []
  },
  {
   "cell_type": "code",
   "execution_count": null,
   "metadata": {},
   "outputs": [],
   "source": []
  }
 ],
 "metadata": {
  "kernelspec": {
   "display_name": "Python 3",
   "language": "python",
   "name": "python3"
  },
  "language_info": {
   "codemirror_mode": {
    "name": "ipython",
    "version": 3
   },
   "file_extension": ".py",
   "mimetype": "text/x-python",
   "name": "python",
   "nbconvert_exporter": "python",
   "pygments_lexer": "ipython3",
   "version": "3.6.4"
  }
 },
 "nbformat": 4,
 "nbformat_minor": 2
}
